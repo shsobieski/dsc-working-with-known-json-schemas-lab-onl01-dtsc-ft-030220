{
 "cells": [
  {
   "cell_type": "markdown",
   "metadata": {},
   "source": [
    "# Working with Known JSON Schemas - Lab"
   ]
  },
  {
   "cell_type": "markdown",
   "metadata": {},
   "source": [
    "## Introduction\n",
    "In this lab, you'll practice working with JSON files whose schema you know beforehand."
   ]
  },
  {
   "cell_type": "markdown",
   "metadata": {},
   "source": [
    "## Objectives\n",
    "You will be able to:\n",
    "* Use the JSON module to load and parse JSON documents\n",
    "* Write data to predefined JSON schemas\n",
    "* Convert JSON to a pandas dataframe"
   ]
  },
  {
   "cell_type": "markdown",
   "metadata": {},
   "source": [
    "## Reading a JSON Schema\n",
    "\n",
    "Here's the JSON schema provided for a section of the NY Times API:\n",
    "<img src=\"images/nytimes_movie_schema.png\" width=500>\n",
    "\n",
    "or a fully expanded view:\n",
    "\n",
    "<img src=\"images/nytimes_movie_schema_detailed.png\" width=500>\n",
    "\n",
    "You can more about the documentation [here](https://developer.nytimes.com/docs/movie-reviews-api/1/routes/reviews/%7Btype%7D.json/get)."
   ]
  },
  {
   "cell_type": "markdown",
   "metadata": {},
   "source": [
    "You can see that the master structure is a dictionary and has a key named 'response'. This is also a dictionary and has two keys: 'data' and 'meta'. As you continue to examine the schema hierarchy, you'll notice the vast majority, in this case, are dictionaries. "
   ]
  },
  {
   "cell_type": "markdown",
   "metadata": {},
   "source": [
    "## Loading the Data File\n",
    "\n",
    "Start by importing the json file. The sample response from the api is stored in a file **ny_times_movies.json**"
   ]
  },
  {
   "cell_type": "code",
   "execution_count": 1,
   "metadata": {},
   "outputs": [],
   "source": [
    "#Your code here\n",
    "import json\n",
    "import pandas as pd\n",
    "f = open('ny_times_movies.json')\n",
    "file = json.load(f)"
   ]
  },
  {
   "cell_type": "markdown",
   "metadata": {},
   "source": [
    "## Loading Specific Data\n",
    "\n",
    "Create a DataFrame of the major data container within the json file, listed under the 'results' heading in the schema above."
   ]
  },
  {
   "cell_type": "code",
   "execution_count": 2,
   "metadata": {},
   "outputs": [],
   "source": [
    "results_df = pd.DataFrame(file['results'])"
   ]
  },
  {
   "cell_type": "markdown",
   "metadata": {},
   "source": [
    "## How many unique critics are there?"
   ]
  },
  {
   "cell_type": "code",
   "execution_count": 4,
   "metadata": {},
   "outputs": [
    {
     "data": {
      "text/plain": [
       "0              A.O. SCOTT\n",
       "1          BEN KENIGSBERG\n",
       "2             GLENN KENNY\n",
       "3              A.O. SCOTT\n",
       "4          BEN KENIGSBERG\n",
       "5              A.O. SCOTT\n",
       "6             GLENN KENNY\n",
       "7     JEANNETTE CATSOULIS\n",
       "8     JEANNETTE CATSOULIS\n",
       "9          BEN KENIGSBERG\n",
       "10         MANOHLA DARGIS\n",
       "11             A.O. SCOTT\n",
       "12            GLENN KENNY\n",
       "13         KEN JAWOROWSKI\n",
       "14             TEO BUGBEE\n",
       "15         KEN JAWOROWSKI\n",
       "16            GLENN KENNY\n",
       "17         KEN JAWOROWSKI\n",
       "18             TEO BUGBEE\n",
       "19             A.O. SCOTT\n",
       "Name: byline, dtype: object"
      ]
     },
     "execution_count": 4,
     "metadata": {},
     "output_type": "execute_result"
    }
   ],
   "source": [
    "results_df['byline']"
   ]
  },
  {
   "cell_type": "code",
   "execution_count": 6,
   "metadata": {},
   "outputs": [
    {
     "name": "stdout",
     "output_type": "stream",
     "text": [
      "7\n"
     ]
    }
   ],
   "source": [
    "critic_list = []\n",
    "for critic in results_df['byline']:\n",
    "    if (critic in critic_list):\n",
    "        continue\n",
    "    else:\n",
    "        critic_list.append(critic)\n",
    "print(len(critic_list))"
   ]
  },
  {
   "cell_type": "markdown",
   "metadata": {},
   "source": [
    "## Create a new column for the review's url. Title the column 'review_url'"
   ]
  },
  {
   "cell_type": "code",
   "execution_count": 16,
   "metadata": {},
   "outputs": [
    {
     "data": {
      "text/html": [
       "<div>\n",
       "<style scoped>\n",
       "    .dataframe tbody tr th:only-of-type {\n",
       "        vertical-align: middle;\n",
       "    }\n",
       "\n",
       "    .dataframe tbody tr th {\n",
       "        vertical-align: top;\n",
       "    }\n",
       "\n",
       "    .dataframe thead th {\n",
       "        text-align: right;\n",
       "    }\n",
       "</style>\n",
       "<table border=\"1\" class=\"dataframe\">\n",
       "  <thead>\n",
       "    <tr style=\"text-align: right;\">\n",
       "      <th></th>\n",
       "      <th>display_title</th>\n",
       "      <th>mpaa_rating</th>\n",
       "      <th>critics_pick</th>\n",
       "      <th>byline</th>\n",
       "      <th>headline</th>\n",
       "      <th>summary_short</th>\n",
       "      <th>publication_date</th>\n",
       "      <th>opening_date</th>\n",
       "      <th>date_updated</th>\n",
       "      <th>link</th>\n",
       "      <th>multimedia</th>\n",
       "      <th>review_url</th>\n",
       "    </tr>\n",
       "  </thead>\n",
       "  <tbody>\n",
       "    <tr>\n",
       "      <td>0</td>\n",
       "      <td>Can You Ever Forgive Me</td>\n",
       "      <td>R</td>\n",
       "      <td>1</td>\n",
       "      <td>A.O. SCOTT</td>\n",
       "      <td>Review: Melissa McCarthy Is Criminally Good in...</td>\n",
       "      <td>Marielle Heller directs a true story of litera...</td>\n",
       "      <td>2018-10-16</td>\n",
       "      <td>2018-10-19</td>\n",
       "      <td>2018-10-17 02:44:23</td>\n",
       "      <td>{'type': 'article', 'url': 'http://www.nytimes...</td>\n",
       "      <td>{'type': 'mediumThreeByTwo210', 'src': 'https:...</td>\n",
       "      <td>http://www.nytimes.com/2018/10/16/movies/can-y...</td>\n",
       "    </tr>\n",
       "    <tr>\n",
       "      <td>1</td>\n",
       "      <td>Charm City</td>\n",
       "      <td></td>\n",
       "      <td>1</td>\n",
       "      <td>BEN KENIGSBERG</td>\n",
       "      <td>Review: â€˜Charm Cityâ€™ Vividly Captures the ...</td>\n",
       "      <td>Marilyn Nessâ€™s documentary is dedicated to t...</td>\n",
       "      <td>2018-10-16</td>\n",
       "      <td>2018-04-22</td>\n",
       "      <td>2018-10-16 11:04:03</td>\n",
       "      <td>{'type': 'article', 'url': 'http://www.nytimes...</td>\n",
       "      <td>{'type': 'mediumThreeByTwo210', 'src': 'https:...</td>\n",
       "      <td>http://www.nytimes.com/2018/10/16/movies/charm...</td>\n",
       "    </tr>\n",
       "    <tr>\n",
       "      <td>2</td>\n",
       "      <td>Horn from the Heart: The Paul Butterfield Story</td>\n",
       "      <td></td>\n",
       "      <td>1</td>\n",
       "      <td>GLENN KENNY</td>\n",
       "      <td>Review: Paul Butterfieldâ€™s Story Is Told in ...</td>\n",
       "      <td>A documentary explores the life of the blues m...</td>\n",
       "      <td>2018-10-16</td>\n",
       "      <td>2018-10-19</td>\n",
       "      <td>2018-10-16 11:04:04</td>\n",
       "      <td>{'type': 'article', 'url': 'http://www.nytimes...</td>\n",
       "      <td>{'type': 'mediumThreeByTwo210', 'src': 'https:...</td>\n",
       "      <td>http://www.nytimes.com/2018/10/16/movies/horn-...</td>\n",
       "    </tr>\n",
       "    <tr>\n",
       "      <td>3</td>\n",
       "      <td>The Price of Everything</td>\n",
       "      <td></td>\n",
       "      <td>0</td>\n",
       "      <td>A.O. SCOTT</td>\n",
       "      <td>Review: â€˜The Price of Everythingâ€™ Asks $56...</td>\n",
       "      <td>This documentary examines the global art marke...</td>\n",
       "      <td>2018-10-16</td>\n",
       "      <td>2018-10-19</td>\n",
       "      <td>2018-10-16 16:08:03</td>\n",
       "      <td>{'type': 'article', 'url': 'http://www.nytimes...</td>\n",
       "      <td>{'type': 'mediumThreeByTwo210', 'src': 'https:...</td>\n",
       "      <td>http://www.nytimes.com/2018/10/16/movies/the-p...</td>\n",
       "    </tr>\n",
       "    <tr>\n",
       "      <td>4</td>\n",
       "      <td>Impulso</td>\n",
       "      <td></td>\n",
       "      <td>0</td>\n",
       "      <td>BEN KENIGSBERG</td>\n",
       "      <td>Review: â€˜Impulsoâ€™ Goes Backstage With a Fl...</td>\n",
       "      <td>This documentary follows RocÃ­o Molina, a cutt...</td>\n",
       "      <td>2018-10-16</td>\n",
       "      <td>None</td>\n",
       "      <td>2018-10-16 11:04:03</td>\n",
       "      <td>{'type': 'article', 'url': 'http://www.nytimes...</td>\n",
       "      <td>{'type': 'mediumThreeByTwo210', 'src': 'https:...</td>\n",
       "      <td>http://www.nytimes.com/2018/10/16/movies/impul...</td>\n",
       "    </tr>\n",
       "  </tbody>\n",
       "</table>\n",
       "</div>"
      ],
      "text/plain": [
       "                                     display_title mpaa_rating  critics_pick  \\\n",
       "0                          Can You Ever Forgive Me           R             1   \n",
       "1                                       Charm City                         1   \n",
       "2  Horn from the Heart: The Paul Butterfield Story                         1   \n",
       "3                          The Price of Everything                         0   \n",
       "4                                          Impulso                         0   \n",
       "\n",
       "           byline                                           headline  \\\n",
       "0      A.O. SCOTT  Review: Melissa McCarthy Is Criminally Good in...   \n",
       "1  BEN KENIGSBERG  Review: â€˜Charm Cityâ€™ Vividly Captures the ...   \n",
       "2     GLENN KENNY  Review: Paul Butterfieldâ€™s Story Is Told in ...   \n",
       "3      A.O. SCOTT  Review: â€˜The Price of Everythingâ€™ Asks $56...   \n",
       "4  BEN KENIGSBERG  Review: â€˜Impulsoâ€™ Goes Backstage With a Fl...   \n",
       "\n",
       "                                       summary_short publication_date  \\\n",
       "0  Marielle Heller directs a true story of litera...       2018-10-16   \n",
       "1  Marilyn Nessâ€™s documentary is dedicated to t...       2018-10-16   \n",
       "2  A documentary explores the life of the blues m...       2018-10-16   \n",
       "3  This documentary examines the global art marke...       2018-10-16   \n",
       "4  This documentary follows RocÃ­o Molina, a cutt...       2018-10-16   \n",
       "\n",
       "  opening_date         date_updated  \\\n",
       "0   2018-10-19  2018-10-17 02:44:23   \n",
       "1   2018-04-22  2018-10-16 11:04:03   \n",
       "2   2018-10-19  2018-10-16 11:04:04   \n",
       "3   2018-10-19  2018-10-16 16:08:03   \n",
       "4         None  2018-10-16 11:04:03   \n",
       "\n",
       "                                                link  \\\n",
       "0  {'type': 'article', 'url': 'http://www.nytimes...   \n",
       "1  {'type': 'article', 'url': 'http://www.nytimes...   \n",
       "2  {'type': 'article', 'url': 'http://www.nytimes...   \n",
       "3  {'type': 'article', 'url': 'http://www.nytimes...   \n",
       "4  {'type': 'article', 'url': 'http://www.nytimes...   \n",
       "\n",
       "                                          multimedia  \\\n",
       "0  {'type': 'mediumThreeByTwo210', 'src': 'https:...   \n",
       "1  {'type': 'mediumThreeByTwo210', 'src': 'https:...   \n",
       "2  {'type': 'mediumThreeByTwo210', 'src': 'https:...   \n",
       "3  {'type': 'mediumThreeByTwo210', 'src': 'https:...   \n",
       "4  {'type': 'mediumThreeByTwo210', 'src': 'https:...   \n",
       "\n",
       "                                          review_url  \n",
       "0  http://www.nytimes.com/2018/10/16/movies/can-y...  \n",
       "1  http://www.nytimes.com/2018/10/16/movies/charm...  \n",
       "2  http://www.nytimes.com/2018/10/16/movies/horn-...  \n",
       "3  http://www.nytimes.com/2018/10/16/movies/the-p...  \n",
       "4  http://www.nytimes.com/2018/10/16/movies/impul...  "
      ]
     },
     "execution_count": 16,
     "metadata": {},
     "output_type": "execute_result"
    }
   ],
   "source": [
    "results_df['review_url'] = results_df['link'].map(lambda x : x['url'])\n",
    "results_df.head()"
   ]
  },
  {
   "cell_type": "markdown",
   "metadata": {},
   "source": [
    "## How many results are in the file?"
   ]
  },
  {
   "cell_type": "code",
   "execution_count": 17,
   "metadata": {},
   "outputs": [
    {
     "data": {
      "text/plain": [
       "20"
      ]
     },
     "execution_count": 17,
     "metadata": {},
     "output_type": "execute_result"
    }
   ],
   "source": [
    "len(file['results'])"
   ]
  },
  {
   "cell_type": "markdown",
   "metadata": {},
   "source": [
    "## Summary\n",
    "Well done! Here you continued to gather practice extracting data from JSON files and transforming them into our standard tool of Pandas DataFrames."
   ]
  }
 ],
 "metadata": {
  "kernelspec": {
   "display_name": "Python 3",
   "language": "python",
   "name": "python3"
  },
  "language_info": {
   "codemirror_mode": {
    "name": "ipython",
    "version": 3
   },
   "file_extension": ".py",
   "mimetype": "text/x-python",
   "name": "python",
   "nbconvert_exporter": "python",
   "pygments_lexer": "ipython3",
   "version": "3.7.4"
  },
  "toc": {
   "base_numbering": 1,
   "nav_menu": {},
   "number_sections": true,
   "sideBar": true,
   "skip_h1_title": false,
   "title_cell": "Table of Contents",
   "title_sidebar": "Contents",
   "toc_cell": false,
   "toc_position": {},
   "toc_section_display": true,
   "toc_window_display": false
  }
 },
 "nbformat": 4,
 "nbformat_minor": 2
}
